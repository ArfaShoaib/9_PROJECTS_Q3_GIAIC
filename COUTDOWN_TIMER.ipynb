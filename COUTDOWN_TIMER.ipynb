{
  "cells": [
    {
      "cell_type": "markdown",
      "metadata": {
        "id": "view-in-github",
        "colab_type": "text"
      },
      "source": [
        "<a href=\"https://colab.research.google.com/github/ArfaShoaib/9_PROJECTS_Q3_GIAIC/blob/main/COUTDOWN_TIMER.ipynb\" target=\"_parent\"><img src=\"https://colab.research.google.com/assets/colab-badge.svg\" alt=\"Open In Colab\"/></a>"
      ]
    },
    {
      "cell_type": "markdown",
      "metadata": {
        "id": "KGkYyLPJgAlx"
      },
      "source": [
        "# **COUNTDOWN TIMER USING PYTHON**"
      ]
    },
    {
      "cell_type": "code",
      "execution_count": null,
      "metadata": {
        "colab": {
          "background_save": true,
          "base_uri": "https://localhost:8080/"
        },
        "id": "of7-cwF8gDnA",
        "outputId": "ed9bfdc2-358f-47a6-c037-e4357e98103d"
      },
      "outputs": [
        {
          "name": "stdout",
          "output_type": "stream",
          "text": [
            "Timer completed!\n"
          ]
        }
      ],
      "source": [
        "import time\n",
        "\n",
        "def countdown_timer(seconds):\n",
        "  while seconds > 0:\n",
        "    mins,secs = divmod(seconds,60)\n",
        "    timer = f\"{mins:02d}:{secs:02d}\"\n",
        "    print(timer,end='\\r')\n",
        "    time.sleep(1)\n",
        "    seconds -= 1\n",
        "  print('Timer completed!')\n",
        "\n",
        "#get input from user\n",
        "try:\n",
        "  seconds = int(input(\"Enter countdown timer in seconds: \"))\n",
        "  countdown_timer(seconds)\n",
        "except ValueError:\n",
        "  print(\"Invalid input! Please enter a valid number.\")"
      ]
    }
  ],
  "metadata": {
    "colab": {
      "provenance": [],
      "authorship_tag": "ABX9TyOAVOziuaReV57oa/4Ihex5",
      "include_colab_link": true
    },
    "kernelspec": {
      "display_name": "Python 3",
      "name": "python3"
    },
    "language_info": {
      "name": "python"
    }
  },
  "nbformat": 4,
  "nbformat_minor": 0
}