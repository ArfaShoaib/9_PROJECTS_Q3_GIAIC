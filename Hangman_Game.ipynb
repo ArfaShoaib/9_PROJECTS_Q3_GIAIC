{
  "nbformat": 4,
  "nbformat_minor": 0,
  "metadata": {
    "colab": {
      "provenance": [],
      "authorship_tag": "ABX9TyOkli+8ELIAWEXHlylK+JVp",
      "include_colab_link": true
    },
    "kernelspec": {
      "name": "python3",
      "display_name": "Python 3"
    },
    "language_info": {
      "name": "python"
    }
  },
  "cells": [
    {
      "cell_type": "markdown",
      "metadata": {
        "id": "view-in-github",
        "colab_type": "text"
      },
      "source": [
        "<a href=\"https://colab.research.google.com/github/ArfaShoaib/9_PROJECTS_Q3_GIAIC/blob/main/Hangman_Game.ipynb\" target=\"_parent\"><img src=\"https://colab.research.google.com/assets/colab-badge.svg\" alt=\"Open In Colab\"/></a>"
      ]
    },
    {
      "cell_type": "markdown",
      "source": [
        "# **#HANGMAN GAME USING PYTHON**"
      ],
      "metadata": {
        "id": "WGXDf-ihb_-7"
      }
    },
    {
      "cell_type": "code",
      "source": [
        "import random\n",
        "\n",
        "# List of words to guess\n",
        "word_lists = [\"python\", \"hangman\", \"developer\", \"programming\", \"computer\"]\n",
        "word = random.choice(word_lists)\n",
        "guessed_word = [\"_\"] * len(word)\n",
        "attempts = 5\n",
        "guessed_letters = []\n",
        "\n",
        "print(\"Welcome to Hangman!\")\n",
        "print(\"Try to guess the word by suggesting letters.\")\n",
        "\n",
        "while attempts > 0:\n",
        "  print(\"\\nWord: \"+\" \".join(guessed_word))\n",
        "  print(\"Attempts left:\", attempts)\n",
        "\n",
        "  guess = input(\"Guess a letter: \").lower()\n",
        "\n",
        "\n",
        "  if len(guess) != 1 or not guess.isalpha():\n",
        "    print(\"Please enter a single letter.\")\n",
        "    continue\n",
        "\n",
        "  if guess in guessed_letters:\n",
        "    print(\"You have already guessed that letter.\")\n",
        "    continue\n",
        "\n",
        "  guessed_letters.append(guess)\n",
        "\n",
        "  if guess in word:\n",
        "    print(\"Good guess!\")\n",
        "    for i in range(len(word)):\n",
        "      if word[i] == guess:\n",
        "        guessed_word[i] = guess\n",
        "  else:\n",
        "    print(\"Oops! That letter is not in the word.\")\n",
        "    attempts -= 1\n",
        "\n",
        "  # Check if the user has guessed the whole word\n",
        "  if \"_\" not in guessed_word:\n",
        "    print(\"\\nCongratulations! You guessed the word:\", word)\n",
        "    break\n",
        "\n",
        "if \"_\" in guessed_word:\n",
        "  print(\"\\nSorry, you ran out of attempts. The word was:\", word)\n",
        "\n"
      ],
      "metadata": {
        "colab": {
          "base_uri": "https://localhost:8080/"
        },
        "id": "dulAkgSJcFHX",
        "outputId": "61bf0cf8-f0a5-446e-a90f-36f2a10beda1"
      },
      "execution_count": null,
      "outputs": [
        {
          "output_type": "stream",
          "name": "stdout",
          "text": [
            "Welcome to Hangman!\n",
            "Try to guess the word by suggesting letters.\n",
            "\n",
            "Word: _ _ _ _ _ _ _ _\n",
            "Attempts left: 5\n",
            "Guess a letter: p\n",
            "Good guess!\n",
            "\n",
            "Word: _ _ _ p _ _ _ _\n",
            "Attempts left: 5\n"
          ]
        }
      ]
    }
  ]
}