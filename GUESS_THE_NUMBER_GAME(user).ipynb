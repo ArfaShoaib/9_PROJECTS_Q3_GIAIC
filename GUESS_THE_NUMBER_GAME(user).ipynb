{
  "nbformat": 4,
  "nbformat_minor": 0,
  "metadata": {
    "colab": {
      "provenance": [],
      "authorship_tag": "ABX9TyMcnEMAYv9wvGHKiORgyX8w",
      "include_colab_link": true
    },
    "kernelspec": {
      "name": "python3",
      "display_name": "Python 3"
    },
    "language_info": {
      "name": "python"
    }
  },
  "cells": [
    {
      "cell_type": "markdown",
      "metadata": {
        "id": "view-in-github",
        "colab_type": "text"
      },
      "source": [
        "<a href=\"https://colab.research.google.com/github/ArfaShoaib/9_PROJECTS_Q3_GIAIC/blob/main/GUESS_THE_NUMBER_GAME(user).ipynb\" target=\"_parent\"><img src=\"https://colab.research.google.com/assets/colab-badge.svg\" alt=\"Open In Colab\"/></a>"
      ]
    },
    {
      "cell_type": "markdown",
      "source": [
        "### **GUESS THE NUMBER GAME (user)**"
      ],
      "metadata": {
        "id": "y6ElexiwUDEb"
      }
    },
    {
      "cell_type": "code",
      "source": [
        "import random\n",
        "\n",
        "#generate a random number between 1 , 100\n",
        "number = random.randint(1,100)\n",
        "attempts=0\n",
        "\n",
        "print(\"Welcome to the Number Guessing Game!\")\n",
        "print(\"I'm thinking of a number between 1 and 100.\")\n",
        "\n",
        "while True:\n",
        "  try:\n",
        "    #Take user input\n",
        "    guess = int(input(\"Take a guess: \"))\n",
        "    attempts += 1\n",
        "\n",
        "    #Check the guess\n",
        "    if guess < number:\n",
        "     print(\"Too low! Try again.\")\n",
        "    elif guess > number:\n",
        "     print(\"Too high! Try again.\")\n",
        "    else:\n",
        "     print(f\"Congratulations! You guessed the number {number} in {attempts} attempts.\")\n",
        "     break\n",
        "    except ValueError:\n",
        "    print(\"Invalid input. Please enter a valid number.\")\n",
        "\n"
      ],
      "metadata": {
        "colab": {
          "base_uri": "https://localhost:8080/",
          "height": 106
        },
        "id": "QFmly3UdUHZ_",
        "outputId": "88c6c352-83e8-4bab-f429-c2f92dde423f"
      },
      "execution_count": null,
      "outputs": [
        {
          "output_type": "error",
          "ename": "IndentationError",
          "evalue": "expected an indented block after 'try' statement on line 11 (<ipython-input-1-e7f4be51e7af>, line 13)",
          "traceback": [
            "\u001b[0;36m  File \u001b[0;32m\"<ipython-input-1-e7f4be51e7af>\"\u001b[0;36m, line \u001b[0;32m13\u001b[0m\n\u001b[0;31m    guess = int(input(\"Take a guess: \"))\u001b[0m\n\u001b[0m    ^\u001b[0m\n\u001b[0;31mIndentationError\u001b[0m\u001b[0;31m:\u001b[0m expected an indented block after 'try' statement on line 11\n"
          ]
        }
      ]
    }
  ]
}