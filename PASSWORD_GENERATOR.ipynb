{
  "nbformat": 4,
  "nbformat_minor": 0,
  "metadata": {
    "colab": {
      "provenance": [],
      "authorship_tag": "ABX9TyMxDmqyMutUeuGI6TREi16F",
      "include_colab_link": true
    },
    "kernelspec": {
      "name": "python3",
      "display_name": "Python 3"
    },
    "language_info": {
      "name": "python"
    }
  },
  "cells": [
    {
      "cell_type": "markdown",
      "metadata": {
        "id": "view-in-github",
        "colab_type": "text"
      },
      "source": [
        "<a href=\"https://colab.research.google.com/github/ArfaShoaib/9_PROJECTS_Q3_GIAIC/blob/main/PASSWORD_GENERATOR.ipynb\" target=\"_parent\"><img src=\"https://colab.research.google.com/assets/colab-badge.svg\" alt=\"Open In Colab\"/></a>"
      ]
    },
    {
      "cell_type": "markdown",
      "source": [
        "# **PASSWORD GENERERATOR**"
      ],
      "metadata": {
        "id": "tNzgxrqjuxqJ"
      }
    },
    {
      "cell_type": "code",
      "source": [
        "import random\n",
        "import string\n",
        "import pyperclip\n",
        "\n",
        "def copy_to_clipboard(text):\n",
        "    try:\n",
        "        pyperclip.copy(text)\n",
        "    except pyperclip.PyperclipException:\n",
        "        print(\"Clipboard copy failed. Manually copy the password.\")\n",
        "\n",
        "def generate_password(length=12, use_upper=True, use_lower=True, use_digits=True, use_symbols=True, avoid_ambiguous=True):\n",
        "    upper = string.ascii_uppercase\n",
        "    lower = string.ascii_lowercase\n",
        "    digits = string.digits\n",
        "    symbols = \"@#$%^&*()_-+=<>?/\"  # Customizable symbol set\n",
        "    ambiguous_chars = \"Il1O0\"  # Characters that may look similar\n",
        "\n",
        "    char_pool = \"\"\n",
        "    if use_upper:\n",
        "        char_pool += upper\n",
        "    if use_lower:\n",
        "        char_pool += lower\n",
        "    if use_digits:\n",
        "        char_pool += digits\n",
        "    if use_symbols:\n",
        "        char_pool += symbols\n",
        "\n",
        "    if avoid_ambiguous:\n",
        "        char_pool = ''.join(c for c in char_pool if c not in ambiguous_chars)\n",
        "\n",
        "    if not char_pool:\n",
        "        return \"Error: No character set selected\"\n",
        "\n",
        "    password = ''.join(random.choice(char_pool) for _ in range(length))\n",
        "    copy_to_clipboard(password)  # Copy password to clipboard\n",
        "    return password\n",
        "\n",
        "def generate_passphrase(word_count=4):\n",
        "    words = [\"apple\", \"banana\", \"cherry\", \"date\", \"elderberry\", \"fig\", \"grape\", \"honeydew\", \"kiwi\", \"lemon\", \"mango\"]\n",
        "    passphrase = '-'.join(random.sample(words, word_count))\n",
        "    copy_to_clipboard(passphrase)\n",
        "    return passphrase\n",
        "\n",
        "if __name__ == \"__main__\":\n",
        "    mode = input(\"Choose mode - (1) Strong Password (2) Memorable Passphrase: \")\n",
        "    if mode == \"1\":\n",
        "        length = int(input(\"Enter password length: \"))\n",
        "        print(\"Generated Password:\", generate_password(length))\n",
        "    elif mode == \"2\":\n",
        "        words = int(input(\"Enter number of words in passphrase: \"))\n",
        "        print(\"Generated Passphrase:\", generate_passphrase(words))\n",
        "    else:\n",
        "        print(\"Invalid choice!\")\n"
      ],
      "metadata": {
        "colab": {
          "base_uri": "https://localhost:8080/"
        },
        "id": "qjjSELdBu2Xz",
        "outputId": "09a74b43-18a1-4e45-c01e-311768661921"
      },
      "execution_count": null,
      "outputs": [
        {
          "output_type": "stream",
          "name": "stdout",
          "text": [
            "Choose mode - (1) Strong Password (2) Memorable Passphrase: 2\n",
            "Enter number of words in passphrase: 6\n",
            "Clipboard copy failed. Manually copy the password.\n",
            "Generated Passphrase: banana-apple-kiwi-grape-date-cherry\n"
          ]
        }
      ]
    }
  ]
}