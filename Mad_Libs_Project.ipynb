{
  "nbformat": 4,
  "nbformat_minor": 0,
  "metadata": {
    "colab": {
      "provenance": [],
      "authorship_tag": "ABX9TyOcTRZC4gMbv03agaXrlR73",
      "include_colab_link": true
    },
    "kernelspec": {
      "name": "python3",
      "display_name": "Python 3"
    },
    "language_info": {
      "name": "python"
    }
  },
  "cells": [
    {
      "cell_type": "markdown",
      "metadata": {
        "id": "view-in-github",
        "colab_type": "text"
      },
      "source": [
        "<a href=\"https://colab.research.google.com/github/ArfaShoaib/9_PROJECTS_Q3_GIAIC/blob/main/Mad_Libs_Project.ipynb\" target=\"_parent\"><img src=\"https://colab.research.google.com/assets/colab-badge.svg\" alt=\"Open In Colab\"/></a>"
      ]
    },
    {
      "cell_type": "markdown",
      "source": [
        "**MAD LIBS GAME IN PYTHON**"
      ],
      "metadata": {
        "id": "GEBBEn_GBalZ"
      }
    },
    {
      "cell_type": "code",
      "source": [
        "# TAKE INPUT FROM USER\n",
        "adjective = input(\"Enter an adjective: \")\n",
        "animal = input(\"Enter a animal: \")\n",
        "verb = input(\"Enter a verb: \")\n",
        "place = input(\"Enter a place: \")\n",
        "food = input(\"Enter a food: \")\n",
        "\n",
        "#CREATING A STORY\n",
        "story = f\"\"\"\n",
        "one day , a {adjective} {animal} decided to {verb} in {place}.\n",
        "While Exploring , it found a delicious {food} and ate it happily.\n",
        "It was the best day ever.\n",
        "\"\"\"\n",
        "\n",
        "#DISPLAY THE STORY\n",
        "print(\"\\n Here is Your Mad Libs Story\")\n",
        "print(story)"
      ],
      "metadata": {
        "colab": {
          "base_uri": "https://localhost:8080/"
        },
        "id": "8BfnSxAYBejp",
        "outputId": "2065165e-7925-459c-b5e9-36c185d5ee9b"
      },
      "execution_count": null,
      "outputs": [
        {
          "output_type": "stream",
          "name": "stdout",
          "text": [
            "Enter an adjective: angry\n",
            "Enter a animal: dog\n",
            "Enter a verb: roam\n",
            "Enter a place: street\n",
            "Enter a food: meat\n",
            "\n",
            " Here is Your Mad Libs Story\n",
            "\n",
            "one day , a angry dog decided to roam in street.\n",
            "While Exploring , it found a delicious meat and ate it happily.\n",
            "It was the best day ever.\n",
            "\n"
          ]
        }
      ]
    }
  ]
}